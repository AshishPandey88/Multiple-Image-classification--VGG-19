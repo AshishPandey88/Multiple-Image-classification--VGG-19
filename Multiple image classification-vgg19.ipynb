{
 "cells": [
  {
   "cell_type": "code",
   "execution_count": 1,
   "id": "5b8cfaeb",
   "metadata": {},
   "outputs": [],
   "source": [
    "from keras.preprocessing.image import load_img\n",
    "from keras.preprocessing.image import img_to_array\n",
    "from keras.applications.vgg19 import preprocess_input\n",
    "from keras.applications.vgg19 import decode_predictions\n",
    "from keras.applications.vgg19 import VGG19"
   ]
  },
  {
   "cell_type": "code",
   "execution_count": 2,
   "id": "9add37fb",
   "metadata": {},
   "outputs": [
    {
     "name": "stdout",
     "output_type": "stream",
     "text": [
      "Downloading data from https://storage.googleapis.com/tensorflow/keras-applications/vgg19/vgg19_weights_tf_dim_ordering_tf_kernels.h5\n",
      "574717952/574710816 [==============================] - 94s 0us/step\n",
      "574726144/574710816 [==============================] - 94s 0us/step\n"
     ]
    }
   ],
   "source": [
    "# load the model\n",
    "model = VGG19()"
   ]
  },
  {
   "cell_type": "code",
   "execution_count": 3,
   "id": "455e1be3",
   "metadata": {},
   "outputs": [],
   "source": [
    "import os\n",
    "import numpy as np"
   ]
  },
  {
   "cell_type": "code",
   "execution_count": 4,
   "id": "789a7703",
   "metadata": {},
   "outputs": [],
   "source": [
    "image_name=[image_name for image_name in os.listdir(r'D:\\Deep Learning\\vgg16_images')]"
   ]
  },
  {
   "cell_type": "code",
   "execution_count": 5,
   "id": "7b311c27",
   "metadata": {},
   "outputs": [],
   "source": [
    "folder=r'D:\\Deep Learning\\vgg16_images'"
   ]
  },
  {
   "cell_type": "code",
   "execution_count": 6,
   "id": "2384c85e",
   "metadata": {},
   "outputs": [
    {
     "data": {
      "text/plain": [
       "'D:\\\\Deep Learning\\\\vgg16_images\\\\b15.jpg'"
      ]
     },
     "execution_count": 6,
     "metadata": {},
     "output_type": "execute_result"
    }
   ],
   "source": [
    "folder+\"\\\\\"+ image_name[1]"
   ]
  },
  {
   "cell_type": "code",
   "execution_count": 7,
   "id": "15b75418",
   "metadata": {},
   "outputs": [],
   "source": [
    "image_path=[]\n",
    "for i in image_name:\n",
    "    image_path.append(folder+\"\\\\\"+ i)"
   ]
  },
  {
   "cell_type": "code",
   "execution_count": 8,
   "id": "8335e225",
   "metadata": {},
   "outputs": [],
   "source": [
    "image=[]\n",
    "for i in image_path:\n",
    "    img = load_img(i,target_size=(224, 224))\n",
    "    img=img_to_array(img)\n",
    "    img = img.reshape((1, img.shape[0], img.shape[1], img.shape[2]))\n",
    "    # prepare the image for the VGG model\n",
    "    img = preprocess_input(img)\n",
    "    image.append(img)"
   ]
  },
  {
   "cell_type": "code",
   "execution_count": 9,
   "id": "2ee2e966",
   "metadata": {},
   "outputs": [],
   "source": [
    "image = np.vstack(image)\n",
    "yhat = model.predict(image)"
   ]
  },
  {
   "cell_type": "code",
   "execution_count": 10,
   "id": "78a5207b",
   "metadata": {},
   "outputs": [],
   "source": [
    "label = decode_predictions(yhat)"
   ]
  },
  {
   "cell_type": "code",
   "execution_count": 11,
   "id": "3a318ef1",
   "metadata": {},
   "outputs": [
    {
     "name": "stdout",
     "output_type": "stream",
     "text": [
      "('n03769881', 'minibus', 0.5809546)\n",
      "('n03345487', 'fire_engine', 0.19483025)\n",
      "('n04335435', 'streetcar', 0.56935453)\n",
      "('n02930766', 'cab', 0.9082113)\n",
      "('n03063599', 'coffee_mug', 0.88911104)\n",
      "('n04507155', 'umbrella', 0.414896)\n",
      "('n04509417', 'unicycle', 0.63685334)\n",
      "('n04346328', 'stupa', 0.2712213)\n",
      "('n03141823', 'crutch', 0.20098883)\n",
      "('n03141823', 'crutch', 0.29783383)\n",
      "('n04461696', 'tow_truck', 0.32302985)\n",
      "('n03355925', 'flagpole', 0.22168842)\n",
      "('n02930766', 'cab', 0.6451158)\n",
      "('n06794110', 'street_sign', 0.928767)\n",
      "('n03032252', 'cinema', 0.447499)\n",
      "('n04509417', 'unicycle', 0.45380574)\n",
      "('n04509417', 'unicycle', 0.5229811)\n",
      "('n04487081', 'trolleybus', 0.28324622)\n",
      "('n02835271', 'bicycle-built-for-two', 0.49809754)\n",
      "('n02835271', 'bicycle-built-for-two', 0.09324009)\n",
      "('n02835271', 'bicycle-built-for-two', 0.41371778)\n",
      "('n03792782', 'mountain_bike', 0.29277852)\n",
      "('n06794110', 'street_sign', 0.97715104)\n",
      "('n04146614', 'school_bus', 0.9460715)\n",
      "('n06874185', 'traffic_light', 0.99300426)\n",
      "('n04146614', 'school_bus', 0.76238567)\n",
      "('n06874185', 'traffic_light', 0.9103976)\n",
      "('n06874185', 'traffic_light', 0.93428147)\n",
      "('n06874185', 'traffic_light', 0.9940181)\n",
      "('n02930766', 'cab', 0.9082113)\n"
     ]
    }
   ],
   "source": [
    "for i in range(len(label)):\n",
    "    print(label[i][0])"
   ]
  },
  {
   "cell_type": "code",
   "execution_count": 14,
   "id": "8f935dea",
   "metadata": {},
   "outputs": [
    {
     "name": "stdout",
     "output_type": "stream",
     "text": [
      "[['b14.jpg', 'minibus'], ['b15.jpg', 'fire_engine'], ['b42.jpg', 'streetcar'], ['c2.jpg', 'cab'], ['mug.jpg', 'coffee_mug'], ['p1.jpg', 'umbrella'], ['p10.jpg', 'unicycle'], ['p11.jpg', 'stupa'], ['p16.jpg', 'crutch'], ['p7.jpg', 'crutch'], ['s1.jpg', 'tow_truck'], ['s21.jpg', 'flagpole'], ['s22.jpg', 'cab'], ['s24.jpg', 'street_sign'], ['s25.jpg', 'cinema'], ['s36.jpg', 'unicycle'], ['s37.jpg', 'unicycle'], ['s42.jpg', 'trolleybus'], ['s43.jpg', 'bicycle-built-for-two'], ['s44.jpg', 'bicycle-built-for-two'], ['s45.jpg', 'bicycle-built-for-two'], ['s46.jpg', 'mountain_bike'], ['s6.jpg', 'street_sign'], ['schoolbus.jpg', 'school_bus'], ['t18.jpg', 'traffic_light'], ['t34.jpg', 'school_bus'], ['t35.jpg', 'traffic_light'], ['t38.jpg', 'traffic_light'], ['t39.jpg', 'traffic_light'], ['traffic.jpg', 'cab']]\n"
     ]
    }
   ],
   "source": [
    "results=[]\n",
    "for i in range(len(image_name)):\n",
    "    results.append([image_name[i],label[i][0][1]])\n",
    "\n",
    "print(results)"
   ]
  }
 ],
 "metadata": {
  "kernelspec": {
   "display_name": "Python 3 (ipykernel)",
   "language": "python",
   "name": "python3"
  },
  "language_info": {
   "codemirror_mode": {
    "name": "ipython",
    "version": 3
   },
   "file_extension": ".py",
   "mimetype": "text/x-python",
   "name": "python",
   "nbconvert_exporter": "python",
   "pygments_lexer": "ipython3",
   "version": "3.9.7"
  }
 },
 "nbformat": 4,
 "nbformat_minor": 5
}
